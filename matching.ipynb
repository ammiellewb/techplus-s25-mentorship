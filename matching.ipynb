{
 "cells": [
  {
   "cell_type": "code",
   "execution_count": null,
   "id": "5433de54-7530-46f0-8a71-084846c0c73c",
   "metadata": {},
   "outputs": [],
   "source": [
    "import os\n",
    "import openai\n",
    "import pandas as pd\n",
    "import numpy as np\n",
    "from sklearn.feature_extraction.text import TfidfVectorizer\n",
    "from sklearn.preprocessing import MultiLabelBinarizer\n",
    "from sklearn.metrics.pairwise import cosine_similarity\n",
    "from scipy.optimize import linear_sum_assignment\n",
    "from scipy.sparse import csr_matrix, hstack\n",
    "import networkx as nx\n",
    "import matplotlib.pyplot as plt"
   ]
  },
  {
   "cell_type": "code",
   "execution_count": null,
   "id": "365f1a72-7fab-4f09-932f-8e0575f20d44",
   "metadata": {},
   "outputs": [],
   "source": [
    "# config\n",
    "openai.api_key = # os.getenv(\"OPENAI_API_KEY\")\n",
    "MENTEES_CSV = 'tech+ mentorship/current/s25_mentees.csv'\n",
    "MENTORS_CSV = 'tech+ mentorship/current/s25_mentors.csv'"
   ]
  },
  {
   "cell_type": "code",
   "execution_count": null,
   "id": "3d00f492-3c0c-4cc4-9e04-2f6b30b09041",
   "metadata": {},
   "outputs": [],
   "source": [
    "# load data\n",
    "mentees = pd.read_csv(MENTEES_CSV)\n",
    "mentors = pd.read_csv(MENTORS_CSV)"
   ]
  },
  {
   "cell_type": "code",
   "execution_count": null,
   "id": "771c1f52-0ce0-4404-8028-853f598ce3df",
   "metadata": {},
   "outputs": [],
   "source": [
    "# feature columns\n",
    "mentee_mc_cols = [\n",
    "    'Current study term (or most recently completed study term if on co-op)',\n",
    "    'Academic Program',\n",
    "    'What timezone are you in?',\n",
    "    'Are you in Waterloo?',\n",
    "    'First field 🥇',\n",
    "    'Second field 🥈', \n",
    "    'Third field 🥉',\n",
    "    'Select skills you are currently seeking to develop and work towards with a mentor for this term.',\n",
    "    'How would you describe yourself in social situations?',\n",
    "    'How often would you like to meet and chat with your mentor? 🗓'\n",
    "]\n",
    "mentee_txt_cols = [\n",
    "    'What do you enjoy doing outside of school and work? 🎾🎮⛸️🪡🤿',\n",
    "    'What do you hope to learn or gain from the mentorship program?'\n",
    "]\n",
    "\n",
    "mentor_mc_cols = [\n",
    "    'Current study term (or most recently completed study term if on co-op)',\n",
    "    'Academic Program',\n",
    "    'What timezone are you in?',\n",
    "    'Are you in Waterloo?',\n",
    "    'First field 🥇',\n",
    "    'Second field 🥈', \n",
    "    'Third field 🥉',\n",
    "    'Do you have relevant experience or advice you would like to share with mentees on any of the following topics?',\n",
    "    'How would you describe yourself in social situations?',\n",
    "    'How often would you like to meet and chat with your mentee? 🗓'\n",
    "]\n",
    "mentor_txt_cols = [\n",
    "    'What do you enjoy doing outside of school and work? 🎾🎮⛸️🪡🤿',\n",
    "    'Why do you want to be a mentor? What are you looking to give and gain from this experience? We know balancing work, school, and life can be difficult. What will you do to help your mentee succeed and make them feel confident?',\n",
    "    \"Is there anything else you'd like us to know when considering you as a mentor or matching you with mentees?\"\n",
    "]\n",
    "\n",
    "mentor_capacity_col = 'How many mentees would you like to mentor this term?'"
   ]
  },
  {
   "cell_type": "code",
   "execution_count": null,
   "id": "aa7538c5-085f-4170-b92c-b7446be37657",
   "metadata": {},
   "outputs": [],
   "source": [
    "# subset \n",
    "df_mtees = mentees[[\"Username\", \"First Name (Preferred)\"] + mentee_mc_cols + mentee_txt_cols].copy()\n",
    "df_mtors = mentors [ [\"Username\", \"First Name\"] + mentor_mc_cols + mentor_txt_cols + [mentor_capacity_col] ].copy()"
   ]
  },
  {
   "cell_type": "code",
   "execution_count": null,
   "id": "3196577e-259b-4dc4-b062-9edc57aabe68",
   "metadata": {},
   "outputs": [],
   "source": [
    "# encode mc cols\n",
    "# yes/no - 1/0\n",
    "for df in (df_mtees, df_mtors):\n",
    "    for col in ['Are you in Waterloo?']:\n",
    "        df[col] = df[col].astype(str).str.lower().map({\"yes\": 1, \"no\": 0})\n",
    "# timezone and categories - one-hot\n",
    "X_mc = pd.get_dummies(df_mtees[mentee_mc_cols].astype(str), prefix_sep=\"|\") # mentees\n",
    "Y_mc = pd.get_dummies(df_mtors[mentor_mc_cols].astype(str), prefix_sep=\"|\") # mentors\n",
    "X_mc, Y_mc = X_mc.align(Y_mc, join=\"outer\", axis=1, fill_value=0)\n",
    "\n",
    "X_mc = X_mc.astype(float)\n",
    "Y_mc = Y_mc.astype(float)"
   ]
  },
  {
   "cell_type": "code",
   "execution_count": null,
   "id": "57c1db53-35bd-446a-b984-a34c6ebca8a2",
   "metadata": {},
   "outputs": [],
   "source": [
    "# tf-idf text\n",
    "df_mtees[\"txt\"] = df_mtees[mentee_txt_cols].fillna(\"\").agg(\" \".join, axis=1)\n",
    "df_mtors[\"txt\"] = df_mtors[mentor_txt_cols].fillna(\"\").agg(\" \".join, axis=1)\n",
    "\n",
    "tfidf = TfidfVectorizer(max_features=2000)\n",
    "tfidf.fit(pd.concat([df_mtees[\"txt\"], df_mtors[\"txt\"]]))\n",
    "X_txt = tfidf.transform(df_mtees[\"txt\"]) # mentees\n",
    "Y_txt = tfidf.transform(df_mtors[\"txt\"]) # mentors"
   ]
  },
  {
   "cell_type": "code",
   "execution_count": null,
   "id": "72e1b808-5796-4cbc-86f1-1db853cf451f",
   "metadata": {},
   "outputs": [],
   "source": [
    "# combine all features\n",
    "X_mc_sparse = csr_matrix(X_mc.values)\n",
    "Y_mc_sparse = csr_matrix(Y_mc.values)\n",
    "\n",
    "X = hstack([X_mc_sparse, X_txt])\n",
    "Y = hstack([Y_mc_sparse, Y_txt])"
   ]
  },
  {
   "cell_type": "code",
   "execution_count": null,
   "id": "b7d886db-6291-4356-8e09-1a3c62310d49",
   "metadata": {},
   "outputs": [],
   "source": [
    "mentor_caps = df_mtors[mentor_capacity_col].astype(int).values \n",
    "slot2mentor = np.repeat(np.arange(len(mentor_caps)), mentor_caps) \n",
    "Y_slots = Y[slot2mentor] if isinstance(Y, csr_matrix) else csr_matrix(Y.toarray()[slot2mentor])"
   ]
  },
  {
   "cell_type": "code",
   "execution_count": null,
   "id": "7162bdeb-db13-451e-9181-45a2d135bd0c",
   "metadata": {},
   "outputs": [],
   "source": [
    "# compute cosine similarity and pick top 2 mentors\n",
    "sim = cosine_similarity(X, Y_slots)\n",
    "\n",
    "# build cost matrix for Hungarian: slots as rows, mentees as cols\n",
    "cost = 1 - sim.T  # shape (num_slots, num_mentees)\n",
    "\n",
    "# 1 mentor-slot -> 1 mentee for as many slots as possible\n",
    "slot_idx, mentee_idx = linear_sum_assignment(cost)"
   ]
  },
  {
   "cell_type": "code",
   "execution_count": null,
   "id": "4d4f9ce4-9831-4399-bd3d-f1ac80c14423",
   "metadata": {},
   "outputs": [],
   "source": [
    "# collect pairs\n",
    "pairs = []\n",
    "for slot, mentee in zip(slot_idx, mentee_idx):\n",
    "    mentor = slot2mentor[slot]\n",
    "    score  = sim[mentee, slot]\n",
    "    pairs.append((mentee, mentor, score))"
   ]
  },
  {
   "cell_type": "code",
   "execution_count": null,
   "id": "91961c59-1aed-4c04-b7c2-deabba41589e",
   "metadata": {},
   "outputs": [],
   "source": [
    "matches = pd.DataFrame(pairs, columns=['mentee_idx','mentor_idx','score'])\n",
    "matches[\"mentee_email\"] = df_mtees[\"Username\"].iloc[matches[\"mentee_idx\"]].values\n",
    "matches[\"mentor_email\"] = df_mtors[\"Username\"].iloc[matches[\"mentor_idx\"]].values"
   ]
  },
  {
   "cell_type": "code",
   "execution_count": null,
   "id": "78d741f0-dd4d-449c-89cb-e60a95f0043e",
   "metadata": {},
   "outputs": [],
   "source": [
    "# include unmatched mentees with blank\n",
    "all_idx = set(range(len(df_mtees)))\n",
    "matched_idx = set(matches['mentee_idx'])\n",
    "unmatched = sorted(all_idx - matched_idx)\n",
    "if unmatched:\n",
    "    df_unmatched = pd.DataFrame({\n",
    "        'mentee_idx': unmatched,\n",
    "        'mentor_idx': [np.nan] * len(unmatched),\n",
    "        'score': [np.nan] * len(unmatched),\n",
    "        'mentee_email': df_mtees['Username'].iloc[unmatched].values,\n",
    "        'mentor_email': [''] * len(unmatched)\n",
    "    })\n",
    "    matches = pd.concat([matches, df_unmatched], ignore_index=True)"
   ]
  },
  {
   "cell_type": "code",
   "execution_count": null,
   "id": "12b7089e-04e1-4d71-adff-056fdcf9b8f4",
   "metadata": {},
   "outputs": [],
   "source": [
    "# generate text using OpenAI\n",
    "mentee_fields = [\"First Name (Preferred)\"] + mentee_mc_cols + mentee_txt_cols\n",
    "mentor_fields = [\"First Name\"] + mentor_mc_cols + mentor_txt_cols\n",
    "\n",
    "def justify_pair(mentee, mentor, score):\n",
    "    p = (\n",
    "        f\"Mentee data: {mentee[mentee_fields].to_dict()}\\n\"\n",
    "        f\"Mentor data: {mentor[mentor_fields].to_dict()}\\n\"\n",
    "        f\"Score: {score:.2f}\\n\"\n",
    "        \"In one sentence, explain why this is a good mentor–mentee match, using their first names and sounding natural.\"\n",
    "    )\n",
    "    resp = openai.chat.completions.create(\n",
    "        model=\"gpt-4o-mini\",\n",
    "        messages=[\n",
    "            {\"role\":\"system\",\"content\":\"You are a concise mentor-mentee match-justifier.\"},\n",
    "            {\"role\":\"user\",\"content\":p}\n",
    "        ],\n",
    "        max_tokens=60, temperature=0.7\n",
    "    )\n",
    "    return resp.choices[0].message.content.strip()\n",
    "\n",
    "justs = []\n",
    "for _, r in matches.iterrows():\n",
    "    if pd.isna(r['mentor_idx']):\n",
    "        # no mentor assigned\n",
    "        justs.append('')\n",
    "    else:\n",
    "        mtee = df_mtees.iloc[int(r['mentee_idx'])]\n",
    "        mtor = df_mtors.iloc[int(r['mentor_idx'])]\n",
    "        score = r['score']\n",
    "        justs.append(justify_pair(mtee, mtor, score))\n",
    "    \n",
    "matches[\"justification\"] = justs"
   ]
  },
  {
   "cell_type": "code",
   "execution_count": null,
   "id": "7444c77c-174f-48f6-a255-d38ed35b6965",
   "metadata": {},
   "outputs": [],
   "source": [
    "# save\n",
    "output_path = \"s25_mentee_mentor_matches.csv\"\n",
    "matches.to_csv(output_path, index=False)\n",
    "print(f\"All matches written to {output_path}\")"
   ]
  },
  {
   "cell_type": "code",
   "execution_count": null,
   "id": "b826f407-9500-4146-9c30-1ea346a344cf",
   "metadata": {},
   "outputs": [],
   "source": [
    "# bipartite graph: prefix T_ for mentees, M_ for mentors\n",
    "G = nx.Graph()\n",
    "\n",
    "for i in range(len(df_mtees)):\n",
    "    G.add_node(f\"T_{i}\", bipartite=0)\n",
    "\n",
    "for _, row in matches.dropna(subset=['mentor_idx']).iterrows():\n",
    "    t = f\"T_{int(row['mentee_idx'])}\" # mentee node\n",
    "    m = f\"M_{int(row['mentor_idx'])}\" # mentor node\n",
    "    # G.add_node(t, bipartite=0)\n",
    "    G.add_node(m, bipartite=1)\n",
    "    G.add_edge(t, m, weight=row['score'])\n",
    "\n",
    "# layout and drawing\n",
    "pos = nx.spring_layout(G, seed=42)\n",
    "\n",
    "# draw mentees\n",
    "t_nodes = [n for n,d in G.nodes(data=True) if n.startswith('T_')]\n",
    "nx.draw_networkx_nodes(G, pos, nodelist=t_nodes, node_color='skyblue', node_size=200, label='Mentees')\n",
    "\n",
    "# draw mentors\n",
    "m_nodes = [n for n,d in G.nodes(data=True) if n.startswith('M_')]\n",
    "nx.draw_networkx_nodes(G, pos, nodelist=m_nodes, node_color='lightgreen', node_size=400, label='Mentors')\n",
    "\n",
    "# draw edges with widths by compatibility\n",
    "edges = G.edges(data=True)\n",
    "nx.draw_networkx_edges(G, pos, edgelist=[(u,v) for u,v,d in edges], width=[d['weight']*5 for _,_,d in edges], alpha=0.6)\n",
    "\n",
    "# labels (using IDs only)\n",
    "nx.draw_networkx_labels(G, pos, font_size=6)\n",
    "\n",
    "plt.axis('off')\n",
    "plt.legend(scatterpoints=1)\n",
    "plt.title('Mentor–Mentee Match Graph')\n",
    "plt.savefig('Mentor–Mentee Match Graph.png')\n",
    "plt.show()"
   ]
  }
 ],
 "metadata": {
  "kernelspec": {
   "display_name": "Python 3 (ipykernel)",
   "language": "python",
   "name": "python3"
  },
  "language_info": {
   "codemirror_mode": {
    "name": "ipython",
    "version": 3
   },
   "file_extension": ".py",
   "mimetype": "text/x-python",
   "name": "python",
   "nbconvert_exporter": "python",
   "pygments_lexer": "ipython3",
   "version": "3.11.7"
  }
 },
 "nbformat": 4,
 "nbformat_minor": 5
}
